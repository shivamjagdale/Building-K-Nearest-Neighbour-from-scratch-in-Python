{
  "nbformat": 4,
  "nbformat_minor": 0,
  "metadata": {
    "colab": {
      "provenance": []
    },
    "kernelspec": {
      "name": "python3",
      "display_name": "Python 3"
    },
    "language_info": {
      "name": "python"
    }
  },
  "cells": [
    {
      "cell_type": "code",
      "source": [
        "# Here we are building k nearest neighbours from scratch in pyhton\n",
        "# We will give the user to choose from which distance he wants to use to calcualte the distance between the test-data and other datapoints\n",
        "\n",
        "# Then we need to sort the distance values from min to max\n",
        "# And then we can recommend the datapoints to our user. The user will manually enter the value for K."
      ],
      "metadata": {
        "id": "eCmm-DDaGVNr"
      },
      "execution_count": null,
      "outputs": []
    },
    {
      "cell_type": "code",
      "execution_count": 1,
      "metadata": {
        "id": "_30J2X-9xwXF"
      },
      "outputs": [],
      "source": [
        "import numpy as np\n",
        "import statistics"
      ]
    },
    {
      "cell_type": "code",
      "source": [
        "class KNN():\n",
        "\n",
        "  def __init__(self, select_distance):\n",
        "    self.select_distance = select_distance\n",
        "\n",
        "  def choose_distance(self,a,b):\n",
        "\n",
        "    if self.select_distance == 'euclidean':\n",
        "      dist = 0\n",
        "\n",
        "      for i in range(len(a)-1):\n",
        "        dist = dist + (a[i] - b[i])**2\n",
        "      e_dist = np.sqrt(dist)\n",
        "      return e_dist\n",
        "\n",
        "    elif self.select_distance == 'manhattan':\n",
        "      dist = 0\n",
        "\n",
        "      for i in range(len(a)-1):\n",
        "        dist = dist + abs(a[i] - b[dist])\n",
        "      return dist\n",
        "\n",
        "  def parameters(self, X_train, test_data, k):\n",
        "    distance_list = []\n",
        "\n",
        "    for training_data in X_train:\n",
        "      distance = self.select_distance(training_data, test_data)\n",
        "      distance_list.append(training_data, distance)\n",
        "    distance_list.sort(key = lambda x:x[1])\n",
        "\n",
        "    neighbour_list = []\n",
        "\n",
        "    for i in range k:\n",
        "      neighbour_list.append(distance_list[i][0])\n",
        "    return neighbour_list\n",
        "\n",
        "  def predict(self, X_train, test_data, k):\n",
        "    neighbours = self.parameters(X_train, test_data, k)\n",
        "\n",
        "    for i in neighbours:\n",
        "      label = []\n",
        "      label.append(i[-1])\n",
        "\n",
        "    prediction = satistics.mode(label)\n",
        "    return prediction"
      ],
      "metadata": {
        "id": "uEWx7mn7_yah"
      },
      "execution_count": 2,
      "outputs": []
    },
    {
      "cell_type": "code",
      "source": [],
      "metadata": {
        "id": "eas1JpoBALQP"
      },
      "execution_count": null,
      "outputs": []
    }
  ]
}